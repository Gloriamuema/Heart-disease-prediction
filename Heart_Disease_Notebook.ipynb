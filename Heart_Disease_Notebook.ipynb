{
  "cells": [
    {
      "cell_type": "markdown",
      "metadata": {},
      "source": [
        "# Heart Disease Prediction Project \n",
        "Sections:\n",
        "1. Importing Libraries\n",
        "2. Load & clean data\n",
        "3. Preprocess data \n",
        "4. Splitting the dataset\n",
        "5. Training the model\n",
        "6. Explanation of Patient Information Terms\n",
        "7. Sample prediction for a single patient\n",
        "8. Explaining prediction with SHAP\n",
        "9. Plot a gauge for the predicted risk \n",
        "10. Next steps\n",
        "\n",
        "I will be using the `HeartDiseaseTrain-Test.csv` dataset downloaded from kaggle "
      ]
    },
    {
      "cell_type": "markdown",
      "metadata": {},
      "source": [
        "## Importing Libraries\n",
        "\n",
        "We import the libraries used in preprocessing, modeling, evaluation and explainability.\n"
      ]
    },
    {
      "cell_type": "code",
      "execution_count": 106,
      "id": "8fc9f137",
      "metadata": {},
      "outputs": [],
      "source": [
        "# pandas for dataframes and CSV loading\n",
        "import pandas as pd\n",
        "# numpy for numeric operations  \n",
        "import numpy as np  \n",
        "# train/test split helper, feature scaling, model training and evaluation\n",
        "from sklearn.model_selection import train_test_split \n",
        "# feature scaling \n",
        "from sklearn.preprocessing import StandardScaler  \n",
        "# the model we train \n",
        "from sklearn.linear_model import LogisticRegression \n",
        "# to evaluate the model \n",
        "from sklearn.metrics import accuracy_score \n",
        "# SHAP for model explainability \n",
        "import shap  \n",
        " # plotly for gauge visualization \n",
        "import plotly.graph_objects as go \n",
        "import warnings\n",
        "# hide sklearn warnings for clarity\n",
        "warnings.filterwarnings('ignore')  \n"
      ]
    },
    {
      "cell_type": "markdown",
      "id": "711156a2",
      "metadata": {},
      "source": [
        "## Load and clean data\n",
        "\n",
        "Loading the dataset as a CSV, fixing inconsistent column names and inspecting the dataset.\n"
      ]
    },
    {
      "cell_type": "code",
      "execution_count": 107,
      "id": "4511cb0f",
      "metadata": {},
      "outputs": [
        {
          "data": {
            "text/html": [
              "<div>\n",
              "<style scoped>\n",
              "    .dataframe tbody tr th:only-of-type {\n",
              "        vertical-align: middle;\n",
              "    }\n",
              "\n",
              "    .dataframe tbody tr th {\n",
              "        vertical-align: top;\n",
              "    }\n",
              "\n",
              "    .dataframe thead th {\n",
              "        text-align: right;\n",
              "    }\n",
              "</style>\n",
              "<table border=\"1\" class=\"dataframe\">\n",
              "  <thead>\n",
              "    <tr style=\"text-align: right;\">\n",
              "      <th></th>\n",
              "      <th>age</th>\n",
              "      <th>sex</th>\n",
              "      <th>chest_pain_type</th>\n",
              "      <th>resting_blood_pressure</th>\n",
              "      <th>cholesterol</th>\n",
              "      <th>fasting_blood_sugar</th>\n",
              "      <th>rest_ecg</th>\n",
              "      <th>max_heart_rate</th>\n",
              "      <th>exercise_induced_angina</th>\n",
              "      <th>oldpeak</th>\n",
              "      <th>slope</th>\n",
              "      <th>vessels_colored_by_flourosopy</th>\n",
              "      <th>thalassemia</th>\n",
              "      <th>target</th>\n",
              "    </tr>\n",
              "  </thead>\n",
              "  <tbody>\n",
              "    <tr>\n",
              "      <th>0</th>\n",
              "      <td>52</td>\n",
              "      <td>Male</td>\n",
              "      <td>Typical angina</td>\n",
              "      <td>125</td>\n",
              "      <td>212</td>\n",
              "      <td>Lower than 120 mg/ml</td>\n",
              "      <td>ST-T wave abnormality</td>\n",
              "      <td>168</td>\n",
              "      <td>No</td>\n",
              "      <td>1.0</td>\n",
              "      <td>Downsloping</td>\n",
              "      <td>Two</td>\n",
              "      <td>Reversable Defect</td>\n",
              "      <td>0</td>\n",
              "    </tr>\n",
              "    <tr>\n",
              "      <th>1</th>\n",
              "      <td>53</td>\n",
              "      <td>Male</td>\n",
              "      <td>Typical angina</td>\n",
              "      <td>140</td>\n",
              "      <td>203</td>\n",
              "      <td>Greater than 120 mg/ml</td>\n",
              "      <td>Normal</td>\n",
              "      <td>155</td>\n",
              "      <td>Yes</td>\n",
              "      <td>3.1</td>\n",
              "      <td>Upsloping</td>\n",
              "      <td>Zero</td>\n",
              "      <td>Reversable Defect</td>\n",
              "      <td>0</td>\n",
              "    </tr>\n",
              "    <tr>\n",
              "      <th>2</th>\n",
              "      <td>70</td>\n",
              "      <td>Male</td>\n",
              "      <td>Typical angina</td>\n",
              "      <td>145</td>\n",
              "      <td>174</td>\n",
              "      <td>Lower than 120 mg/ml</td>\n",
              "      <td>ST-T wave abnormality</td>\n",
              "      <td>125</td>\n",
              "      <td>Yes</td>\n",
              "      <td>2.6</td>\n",
              "      <td>Upsloping</td>\n",
              "      <td>Zero</td>\n",
              "      <td>Reversable Defect</td>\n",
              "      <td>0</td>\n",
              "    </tr>\n",
              "    <tr>\n",
              "      <th>3</th>\n",
              "      <td>61</td>\n",
              "      <td>Male</td>\n",
              "      <td>Typical angina</td>\n",
              "      <td>148</td>\n",
              "      <td>203</td>\n",
              "      <td>Lower than 120 mg/ml</td>\n",
              "      <td>ST-T wave abnormality</td>\n",
              "      <td>161</td>\n",
              "      <td>No</td>\n",
              "      <td>0.0</td>\n",
              "      <td>Downsloping</td>\n",
              "      <td>One</td>\n",
              "      <td>Reversable Defect</td>\n",
              "      <td>0</td>\n",
              "    </tr>\n",
              "    <tr>\n",
              "      <th>4</th>\n",
              "      <td>62</td>\n",
              "      <td>Female</td>\n",
              "      <td>Typical angina</td>\n",
              "      <td>138</td>\n",
              "      <td>294</td>\n",
              "      <td>Greater than 120 mg/ml</td>\n",
              "      <td>ST-T wave abnormality</td>\n",
              "      <td>106</td>\n",
              "      <td>No</td>\n",
              "      <td>1.9</td>\n",
              "      <td>Flat</td>\n",
              "      <td>Three</td>\n",
              "      <td>Fixed Defect</td>\n",
              "      <td>0</td>\n",
              "    </tr>\n",
              "  </tbody>\n",
              "</table>\n",
              "</div>"
            ],
            "text/plain": [
              "   age     sex chest_pain_type  resting_blood_pressure  cholesterol  \\\n",
              "0   52    Male  Typical angina                     125          212   \n",
              "1   53    Male  Typical angina                     140          203   \n",
              "2   70    Male  Typical angina                     145          174   \n",
              "3   61    Male  Typical angina                     148          203   \n",
              "4   62  Female  Typical angina                     138          294   \n",
              "\n",
              "      fasting_blood_sugar               rest_ecg  max_heart_rate  \\\n",
              "0    Lower than 120 mg/ml  ST-T wave abnormality             168   \n",
              "1  Greater than 120 mg/ml                 Normal             155   \n",
              "2    Lower than 120 mg/ml  ST-T wave abnormality             125   \n",
              "3    Lower than 120 mg/ml  ST-T wave abnormality             161   \n",
              "4  Greater than 120 mg/ml  ST-T wave abnormality             106   \n",
              "\n",
              "  exercise_induced_angina  oldpeak        slope vessels_colored_by_flourosopy  \\\n",
              "0                      No      1.0  Downsloping                           Two   \n",
              "1                     Yes      3.1    Upsloping                          Zero   \n",
              "2                     Yes      2.6    Upsloping                          Zero   \n",
              "3                      No      0.0  Downsloping                           One   \n",
              "4                      No      1.9         Flat                         Three   \n",
              "\n",
              "         thalassemia  target  \n",
              "0  Reversable Defect       0  \n",
              "1  Reversable Defect       0  \n",
              "2  Reversable Defect       0  \n",
              "3  Reversable Defect       0  \n",
              "4       Fixed Defect       0  "
            ]
          },
          "execution_count": 107,
          "metadata": {},
          "output_type": "execute_result"
        }
      ],
      "source": [
        "# Path to the dataset\n",
        "csv_path = 'HeartDiseaseTrain-Test.csv'\n",
        "\n",
        "# Read CSV into a pandas DataFrame\n",
        "# load the dataset from file\n",
        "df = pd.read_csv(csv_path)\n",
        "# df.head() \n",
        "\n",
        "# Some datasets have typos in column names; we standardize them here\n",
        "df.rename(columns={'cholestoral': 'cholesterol', 'Max_heart_rate': 'max_heart_rate'}, inplace=True)\n",
        "\n",
        "# Show top 5 rows to verify data loaded correctly\n",
        "# printing the head helps validate column names and sample values\n",
        "df.head()  \n"
      ]
    },
    {
      "cell_type": "markdown",
      "id": "835160fd",
      "metadata": {},
      "source": [
        "## Preprocess data\n",
        "\n",
        "Handling missing values, encode categorical columns into numeric codes and split into train/test sets.\n",
        "Scaling is applied to ensure features have zero mean and unit variance\n"
      ]
    },
    {
      "cell_type": "code",
      "execution_count": null,
      "id": "b707e216",
      "metadata": {},
      "outputs": [],
      "source": [
        "# Drop rows with missing values for a simple strategy (alternatives: imputation)\n",
        " # remove missing rows\n",
        "df_clean = df.dropna().reset_index(drop=True) \n",
        "\n",
        "# Define categorical columns we expect; adjust if dataset differs\n",
        "categorical_cols = [\n",
        "    'sex', 'chest_pain_type', 'fasting_blood_sugar',\n",
        "    'rest_ecg', 'exercise_induced_angina', 'slope',\n",
        "    'vessels_colored_by_flourosopy', 'thalassemia'\n",
        "]\n",
        "\n",
        "# Convert categorical text columns to numeric codes (0,1,2,...). \n",
        "# This keeps things simple and reproducible.\n",
        "for col in categorical_cols:\n",
        "    if col in df_clean.columns:\n",
        "        # map categories to integers\n",
        "        df_clean[col] = df_clean[col].astype('category').cat.codes  \n",
        "\n",
        "# Ensure target column exists\n",
        "if 'target' not in df_clean.columns:\n",
        "    raise ValueError(\"Dataset must contain a 'target' column with labels (0/1).\")\n",
        "\n",
        "# Separate features and target label\n",
        "X = df_clean.drop('target', axis=1)  # features dataframe\n",
        "y = df_clean['target']  # target series\n",
        "\n",
        "# Save feature names for later (ensures we preserve column order)\n",
        "feature_names = X.columns.tolist()\n",
        "\n",
        "\n"
      ]
    },
    {
      "cell_type": "markdown",
      "id": "38484c96",
      "metadata": {},
      "source": [
        "## Splitting The Dataset Ready For Training "
      ]
    },
    {
      "cell_type": "code",
      "execution_count": 109,
      "id": "2255d547",
      "metadata": {},
      "outputs": [
        {
          "name": "stdout",
          "output_type": "stream",
          "text": [
            "X_train shape: (820, 13)\n",
            "X_test shape : (205, 13)\n",
            "Number of features: 13\n"
          ]
        }
      ],
      "source": [
        "# Split into train and test sets to evaluate generalization (80% train, 20% test)\n",
        "X_train, X_test, y_train, y_test = train_test_split(X, y, test_size=0.2, random_state=42)\n",
        "\n",
        "# Scale features: fit on training data and transform both train and test\n",
        "scaler = StandardScaler()  # StandardScaler removes mean and scales to unit variance\n",
        "X_train_scaled = scaler.fit_transform(X_train)  # fit on train\n",
        "X_test_scaled = scaler.transform(X_test)  # use same transform on test\n",
        "\n",
        "# Show shapes to confirm everything looks right\n",
        "print('X_train shape:', X_train_scaled.shape)\n",
        "print('X_test shape :', X_test_scaled.shape)\n",
        "print('Number of features:', len(feature_names))"
      ]
    },
    {
      "cell_type": "markdown",
      "id": "faa25cd3",
      "metadata": {},
      "source": [
        "## Training the model"
      ]
    },
    {
      "cell_type": "code",
      "execution_count": 110,
      "id": "24c5df8e",
      "metadata": {},
      "outputs": [
        {
          "name": "stdout",
          "output_type": "stream",
          "text": [
            "Model accuracy on test set: 79.51%\n"
          ]
        }
      ],
      "source": [
        "# Initialize logistic regression model; set max_iter higher in case of slow convergence\n",
        "model = LogisticRegression(max_iter=1000)\n",
        "\n",
        "# Fit model on scaled training data\n",
        "model.fit(X_train_scaled, y_train)  # train the model parameters\n",
        "\n",
        "# Evaluate on the held-out test set\n",
        "y_pred = model.predict(X_test_scaled)  # predicted labels for the test set\n",
        "accuracy = accuracy_score(y_test, y_pred)  # compute simple accuracy metric\n",
        "print(f'Model accuracy on test set: {accuracy*100:.2f}%')\n"
      ]
    },
    {
      "cell_type": "markdown",
      "id": "ec849a11",
      "metadata": {},
      "source": [
        "## Explanation of Patient Information Terms\n",
        "\n",
        "\n",
        "| **Term** | **Simple Meaning (Layman Explanation)** |\n",
        "|-----------|------------------------------------------|\n",
        "| **Age** | How old the person is, measured in years. |\n",
        "| **Sex** | Whether the person is male or female. |\n",
        "| **Chest Pain Type** | Describes what kind of chest pain the person feels. *Typical angina* means chest pain that happens when the heart doesn’t get enough oxygen, often during exercise. |\n",
        "| **Resting Blood Pressure (mm Hg)** | The pressure of blood against your artery walls when you’re relaxed. A normal range is around 120/80 mm Hg. High numbers can strain your heart. |\n",
        "| **Cholesterol (mg/dl)** | The amount of fat in your blood. High cholesterol can block blood flow and cause heart problems. |\n",
        "| **Fasting Blood Sugar** | The level of sugar (glucose) in your blood before you eat in the morning. High sugar can mean diabetes risk. |\n",
        "| **Rest ECG (Electrocardiogram)** | A simple test that shows how your heart is beating. “Normal” means your heart rhythm looks healthy. |\n",
        "| **Max Heart Rate** | The fastest your heart beats during exercise. It shows how well your heart handles physical effort. |\n",
        "| **Exercise-Induced Angina** | Chest pain that happens when you exercise. “No” means you don’t get chest pain during activity. |\n",
        "| **Oldpeak (ST Depression)** | A small dip seen on the heart test after exercise. It helps doctors see how much stress your heart feels. |\n",
        "| **Slope** | The shape of the line on the heart test after exercise. “Upsloping” is usually a normal sign. |\n",
        "| **Vessels Colored by Fluoroscopy** | Checks if any heart blood vessels are blocked. “Zero” means all are clear — blood is flowing well. |\n",
        "| **Thalassemia** | A blood condition that affects how your body makes red blood cells. “Reversible defect” means it’s mild and can improve. |\n"
      ]
    },
    {
      "cell_type": "markdown",
      "id": "13326258",
      "metadata": {},
      "source": [
        "## Sample prediction for a single patient\n",
        "\n",
        "Creating a sample input looking like as if entered by a user, scale it and run prediction + probability.\n",
        "\n"
      ]
    },
    {
      "cell_type": "code",
      "execution_count": 111,
      "id": "cbcc6241",
      "metadata": {},
      "outputs": [
        {
          "name": "stdout",
          "output_type": "stream",
          "text": [
            "Predicted label: 0 (1=high risk, 0=low risk)\n",
            "Predicted probability of heart disease: 30.2%\n"
          ]
        }
      ],
      "source": [
        "# Example patient values they can be replaced with real inputs when needed\n",
        "sample_input = {\n",
        "    'age': 52,  # patient's age in years\n",
        "    'sex': 1,  # 1 for male, 0 for female - depends on your encoding\n",
        "    'chest_pain_type': 1,  # encoded category value\n",
        "    'resting_blood_pressure': 130,  # mm Hg\n",
        "    'cholesterol': 200,  # mg/dl\n",
        "    'fasting_blood_sugar': 0,  # encoded\n",
        "    'rest_ecg': 1,  # encoded\n",
        "    'max_heart_rate': 150,\n",
        "    'exercise_induced_angina': 0,  # 0 = No, 1 = Yes\n",
        "    'oldpeak': 1.0,  # ST depression\n",
        "    'slope': 1,\n",
        "    'vessels_colored_by_flourosopy': 0,\n",
        "    'thalassemia': 2\n",
        "}\n",
        "\n",
        "# Build DataFrame for the single sample while enforcing original feature order\n",
        "# reindex ensures same columns\n",
        "input_df = pd.DataFrame([sample_input])[feature_names]  \n",
        "\n",
        "# Scale the input using the previously fitted scaler\n",
        "# returns 2D array with shape (1, n_features)\n",
        "input_scaled = scaler.transform(input_df)  \n",
        "\n",
        "# Predict label and probability\n",
        "# 0 or 1\n",
        "pred_label = model.predict(input_scaled)[0]  \n",
        "# probability of class '1' as percent\n",
        "pred_prob = model.predict_proba(input_scaled)[0, 1] * 100  \n",
        "\n",
        "# Print results\n",
        "print(f'Predicted label: {pred_label} (1=high risk, 0=low risk)')\n",
        "print(f'Predicted probability of heart disease: {pred_prob:.1f}%')\n"
      ]
    },
    {
      "cell_type": "markdown",
      "id": "b5a7400c",
      "metadata": {},
      "source": [
        "## Explaining prediction with SHAP\n",
        "\n",
        "SHAP values estimate how much each feature contributed to the model's output for a single prediction.\n",
        "For linear models, we can use `LinearExplainer`.If SHAP computation fails, we fall back to a simple coef*value approximation.\n"
      ]
    },
    {
      "cell_type": "code",
      "execution_count": null,
      "id": "99021c9a",
      "metadata": {},
      "outputs": [
        {
          "data": {
            "text/html": [
              "<div>\n",
              "<style scoped>\n",
              "    .dataframe tbody tr th:only-of-type {\n",
              "        vertical-align: middle;\n",
              "    }\n",
              "\n",
              "    .dataframe tbody tr th {\n",
              "        vertical-align: top;\n",
              "    }\n",
              "\n",
              "    .dataframe thead th {\n",
              "        text-align: right;\n",
              "    }\n",
              "</style>\n",
              "<table border=\"1\" class=\"dataframe\">\n",
              "  <thead>\n",
              "    <tr style=\"text-align: right;\">\n",
              "      <th></th>\n",
              "      <th>Feature</th>\n",
              "      <th>Value</th>\n",
              "      <th>Contribution</th>\n",
              "    </tr>\n",
              "  </thead>\n",
              "  <tbody>\n",
              "    <tr>\n",
              "      <th>11</th>\n",
              "      <td>vessels_colored_by_flourosopy</td>\n",
              "      <td>0.0</td>\n",
              "      <td>-1.618142</td>\n",
              "    </tr>\n",
              "    <tr>\n",
              "      <th>2</th>\n",
              "      <td>chest_pain_type</td>\n",
              "      <td>1.0</td>\n",
              "      <td>0.960982</td>\n",
              "    </tr>\n",
              "    <tr>\n",
              "      <th>1</th>\n",
              "      <td>sex</td>\n",
              "      <td>1.0</td>\n",
              "      <td>-0.410563</td>\n",
              "    </tr>\n",
              "    <tr>\n",
              "      <th>4</th>\n",
              "      <td>cholesterol</td>\n",
              "      <td>200.0</td>\n",
              "      <td>0.407165</td>\n",
              "    </tr>\n",
              "    <tr>\n",
              "      <th>8</th>\n",
              "      <td>exercise_induced_angina</td>\n",
              "      <td>0.0</td>\n",
              "      <td>0.332666</td>\n",
              "    </tr>\n",
              "    <tr>\n",
              "      <th>12</th>\n",
              "      <td>thalassemia</td>\n",
              "      <td>2.0</td>\n",
              "      <td>-0.282826</td>\n",
              "    </tr>\n",
              "    <tr>\n",
              "      <th>5</th>\n",
              "      <td>fasting_blood_sugar</td>\n",
              "      <td>0.0</td>\n",
              "      <td>0.141568</td>\n",
              "    </tr>\n",
              "    <tr>\n",
              "      <th>6</th>\n",
              "      <td>rest_ecg</td>\n",
              "      <td>1.0</td>\n",
              "      <td>-0.140012</td>\n",
              "    </tr>\n",
              "  </tbody>\n",
              "</table>\n",
              "</div>"
            ],
            "text/plain": [
              "                          Feature  Value  Contribution\n",
              "11  vessels_colored_by_flourosopy    0.0     -1.618142\n",
              "2                 chest_pain_type    1.0      0.960982\n",
              "1                             sex    1.0     -0.410563\n",
              "4                     cholesterol  200.0      0.407165\n",
              "8         exercise_induced_angina    0.0      0.332666\n",
              "12                    thalassemia    2.0     -0.282826\n",
              "5             fasting_blood_sugar    0.0      0.141568\n",
              "6                        rest_ecg    1.0     -0.140012"
            ]
          },
          "execution_count": 112,
          "metadata": {},
          "output_type": "execute_result"
        }
      ],
      "source": [
        "# Try SHAP LinearExplainer for this linear model\n",
        "try:\n",
        "    explainer = shap.LinearExplainer(model, X_train_scaled, feature_perturbation='interventional')\n",
        "    # returns array shaped (n_samples, n_features)\n",
        "    shap_values = explainer.shap_values(input_scaled)  \n",
        "    # map feature names to their SHAP contribution for the sample\n",
        "    contributions = dict(zip(feature_names, shap_values[0]))\n",
        "except Exception as e:\n",
        "    print('SHAP failed with error:', e)\n",
        "    # fallback: use coefficient * input value as a rough influence measure\n",
        "    coefs = model.coef_[0]\n",
        "    contributions = {f: float(coefs[i] * input_scaled[0, i]) for i, f in enumerate(feature_names)}\n",
        "\n",
        "# Convert contributions to a DataFrame for easy display and sorting\n",
        "contrib_df = pd.DataFrame({\n",
        "    'Feature': list(contributions.keys()),\n",
        "    'Contribution': list(contributions.values()),\n",
        "    'Value': [input_df[f].iloc[0] for f in feature_names]\n",
        "})\n",
        "\n",
        "# Compute absolute impact to sort by strongest contributors\n",
        "contrib_df['AbsImpact'] = contrib_df['Contribution'].abs()\n",
        "# top 8 features\n",
        "top_contrib = contrib_df.sort_values('AbsImpact', ascending=False).head(8)  \n",
        "\n",
        "top_contrib[['Feature', 'Value', 'Contribution']]\n"
      ]
    },
    {
      "cell_type": "markdown",
      "id": "8a51c2d7",
      "metadata": {},
      "source": [
        "### Plot a gauge for the predicted risk (visual)\n",
        "This uses Plotly to show the predicted probability on a gauge.\n"
      ]
    },
    {
      "cell_type": "code",
      "execution_count": 113,
      "id": "1b1dfede",
      "metadata": {},
      "outputs": [
        {
          "data": {
            "application/vnd.plotly.v1+json": {
              "config": {
                "plotlyServerURL": "https://plot.ly"
              },
              "data": [
                {
                  "gauge": {
                    "axis": {
                      "range": [
                        0,
                        100
                      ]
                    },
                    "bar": {
                      "color": "#2a9d8f"
                    },
                    "steps": [
                      {
                        "color": "#d4f5e6",
                        "range": [
                          0,
                          40
                        ]
                      },
                      {
                        "color": "#fff2cc",
                        "range": [
                          40,
                          70
                        ]
                      },
                      {
                        "color": "#ffd6d6",
                        "range": [
                          70,
                          100
                        ]
                      }
                    ],
                    "threshold": {
                      "line": {
                        "color": "black",
                        "width": 2
                      },
                      "thickness": 0.75,
                      "value": 30.151235205974757
                    }
                  },
                  "mode": "gauge+number",
                  "number": {
                    "suffix": "%",
                    "valueformat": ".1f"
                  },
                  "title": {
                    "text": "<b>Heart Disease Risk</b>"
                  },
                  "type": "indicator",
                  "value": 30.151235205974757
                }
              ],
              "layout": {
                "height": 300,
                "margin": {
                  "b": 20,
                  "l": 20,
                  "r": 20,
                  "t": 40
                },
                "template": {
                  "data": {
                    "bar": [
                      {
                        "error_x": {
                          "color": "#2a3f5f"
                        },
                        "error_y": {
                          "color": "#2a3f5f"
                        },
                        "marker": {
                          "line": {
                            "color": "#E5ECF6",
                            "width": 0.5
                          },
                          "pattern": {
                            "fillmode": "overlay",
                            "size": 10,
                            "solidity": 0.2
                          }
                        },
                        "type": "bar"
                      }
                    ],
                    "barpolar": [
                      {
                        "marker": {
                          "line": {
                            "color": "#E5ECF6",
                            "width": 0.5
                          },
                          "pattern": {
                            "fillmode": "overlay",
                            "size": 10,
                            "solidity": 0.2
                          }
                        },
                        "type": "barpolar"
                      }
                    ],
                    "carpet": [
                      {
                        "aaxis": {
                          "endlinecolor": "#2a3f5f",
                          "gridcolor": "white",
                          "linecolor": "white",
                          "minorgridcolor": "white",
                          "startlinecolor": "#2a3f5f"
                        },
                        "baxis": {
                          "endlinecolor": "#2a3f5f",
                          "gridcolor": "white",
                          "linecolor": "white",
                          "minorgridcolor": "white",
                          "startlinecolor": "#2a3f5f"
                        },
                        "type": "carpet"
                      }
                    ],
                    "choropleth": [
                      {
                        "colorbar": {
                          "outlinewidth": 0,
                          "ticks": ""
                        },
                        "type": "choropleth"
                      }
                    ],
                    "contour": [
                      {
                        "colorbar": {
                          "outlinewidth": 0,
                          "ticks": ""
                        },
                        "colorscale": [
                          [
                            0,
                            "#0d0887"
                          ],
                          [
                            0.1111111111111111,
                            "#46039f"
                          ],
                          [
                            0.2222222222222222,
                            "#7201a8"
                          ],
                          [
                            0.3333333333333333,
                            "#9c179e"
                          ],
                          [
                            0.4444444444444444,
                            "#bd3786"
                          ],
                          [
                            0.5555555555555556,
                            "#d8576b"
                          ],
                          [
                            0.6666666666666666,
                            "#ed7953"
                          ],
                          [
                            0.7777777777777778,
                            "#fb9f3a"
                          ],
                          [
                            0.8888888888888888,
                            "#fdca26"
                          ],
                          [
                            1,
                            "#f0f921"
                          ]
                        ],
                        "type": "contour"
                      }
                    ],
                    "contourcarpet": [
                      {
                        "colorbar": {
                          "outlinewidth": 0,
                          "ticks": ""
                        },
                        "type": "contourcarpet"
                      }
                    ],
                    "heatmap": [
                      {
                        "colorbar": {
                          "outlinewidth": 0,
                          "ticks": ""
                        },
                        "colorscale": [
                          [
                            0,
                            "#0d0887"
                          ],
                          [
                            0.1111111111111111,
                            "#46039f"
                          ],
                          [
                            0.2222222222222222,
                            "#7201a8"
                          ],
                          [
                            0.3333333333333333,
                            "#9c179e"
                          ],
                          [
                            0.4444444444444444,
                            "#bd3786"
                          ],
                          [
                            0.5555555555555556,
                            "#d8576b"
                          ],
                          [
                            0.6666666666666666,
                            "#ed7953"
                          ],
                          [
                            0.7777777777777778,
                            "#fb9f3a"
                          ],
                          [
                            0.8888888888888888,
                            "#fdca26"
                          ],
                          [
                            1,
                            "#f0f921"
                          ]
                        ],
                        "type": "heatmap"
                      }
                    ],
                    "heatmapgl": [
                      {
                        "colorbar": {
                          "outlinewidth": 0,
                          "ticks": ""
                        },
                        "colorscale": [
                          [
                            0,
                            "#0d0887"
                          ],
                          [
                            0.1111111111111111,
                            "#46039f"
                          ],
                          [
                            0.2222222222222222,
                            "#7201a8"
                          ],
                          [
                            0.3333333333333333,
                            "#9c179e"
                          ],
                          [
                            0.4444444444444444,
                            "#bd3786"
                          ],
                          [
                            0.5555555555555556,
                            "#d8576b"
                          ],
                          [
                            0.6666666666666666,
                            "#ed7953"
                          ],
                          [
                            0.7777777777777778,
                            "#fb9f3a"
                          ],
                          [
                            0.8888888888888888,
                            "#fdca26"
                          ],
                          [
                            1,
                            "#f0f921"
                          ]
                        ],
                        "type": "heatmapgl"
                      }
                    ],
                    "histogram": [
                      {
                        "marker": {
                          "pattern": {
                            "fillmode": "overlay",
                            "size": 10,
                            "solidity": 0.2
                          }
                        },
                        "type": "histogram"
                      }
                    ],
                    "histogram2d": [
                      {
                        "colorbar": {
                          "outlinewidth": 0,
                          "ticks": ""
                        },
                        "colorscale": [
                          [
                            0,
                            "#0d0887"
                          ],
                          [
                            0.1111111111111111,
                            "#46039f"
                          ],
                          [
                            0.2222222222222222,
                            "#7201a8"
                          ],
                          [
                            0.3333333333333333,
                            "#9c179e"
                          ],
                          [
                            0.4444444444444444,
                            "#bd3786"
                          ],
                          [
                            0.5555555555555556,
                            "#d8576b"
                          ],
                          [
                            0.6666666666666666,
                            "#ed7953"
                          ],
                          [
                            0.7777777777777778,
                            "#fb9f3a"
                          ],
                          [
                            0.8888888888888888,
                            "#fdca26"
                          ],
                          [
                            1,
                            "#f0f921"
                          ]
                        ],
                        "type": "histogram2d"
                      }
                    ],
                    "histogram2dcontour": [
                      {
                        "colorbar": {
                          "outlinewidth": 0,
                          "ticks": ""
                        },
                        "colorscale": [
                          [
                            0,
                            "#0d0887"
                          ],
                          [
                            0.1111111111111111,
                            "#46039f"
                          ],
                          [
                            0.2222222222222222,
                            "#7201a8"
                          ],
                          [
                            0.3333333333333333,
                            "#9c179e"
                          ],
                          [
                            0.4444444444444444,
                            "#bd3786"
                          ],
                          [
                            0.5555555555555556,
                            "#d8576b"
                          ],
                          [
                            0.6666666666666666,
                            "#ed7953"
                          ],
                          [
                            0.7777777777777778,
                            "#fb9f3a"
                          ],
                          [
                            0.8888888888888888,
                            "#fdca26"
                          ],
                          [
                            1,
                            "#f0f921"
                          ]
                        ],
                        "type": "histogram2dcontour"
                      }
                    ],
                    "mesh3d": [
                      {
                        "colorbar": {
                          "outlinewidth": 0,
                          "ticks": ""
                        },
                        "type": "mesh3d"
                      }
                    ],
                    "parcoords": [
                      {
                        "line": {
                          "colorbar": {
                            "outlinewidth": 0,
                            "ticks": ""
                          }
                        },
                        "type": "parcoords"
                      }
                    ],
                    "pie": [
                      {
                        "automargin": true,
                        "type": "pie"
                      }
                    ],
                    "scatter": [
                      {
                        "fillpattern": {
                          "fillmode": "overlay",
                          "size": 10,
                          "solidity": 0.2
                        },
                        "type": "scatter"
                      }
                    ],
                    "scatter3d": [
                      {
                        "line": {
                          "colorbar": {
                            "outlinewidth": 0,
                            "ticks": ""
                          }
                        },
                        "marker": {
                          "colorbar": {
                            "outlinewidth": 0,
                            "ticks": ""
                          }
                        },
                        "type": "scatter3d"
                      }
                    ],
                    "scattercarpet": [
                      {
                        "marker": {
                          "colorbar": {
                            "outlinewidth": 0,
                            "ticks": ""
                          }
                        },
                        "type": "scattercarpet"
                      }
                    ],
                    "scattergeo": [
                      {
                        "marker": {
                          "colorbar": {
                            "outlinewidth": 0,
                            "ticks": ""
                          }
                        },
                        "type": "scattergeo"
                      }
                    ],
                    "scattergl": [
                      {
                        "marker": {
                          "colorbar": {
                            "outlinewidth": 0,
                            "ticks": ""
                          }
                        },
                        "type": "scattergl"
                      }
                    ],
                    "scattermapbox": [
                      {
                        "marker": {
                          "colorbar": {
                            "outlinewidth": 0,
                            "ticks": ""
                          }
                        },
                        "type": "scattermapbox"
                      }
                    ],
                    "scatterpolar": [
                      {
                        "marker": {
                          "colorbar": {
                            "outlinewidth": 0,
                            "ticks": ""
                          }
                        },
                        "type": "scatterpolar"
                      }
                    ],
                    "scatterpolargl": [
                      {
                        "marker": {
                          "colorbar": {
                            "outlinewidth": 0,
                            "ticks": ""
                          }
                        },
                        "type": "scatterpolargl"
                      }
                    ],
                    "scatterternary": [
                      {
                        "marker": {
                          "colorbar": {
                            "outlinewidth": 0,
                            "ticks": ""
                          }
                        },
                        "type": "scatterternary"
                      }
                    ],
                    "surface": [
                      {
                        "colorbar": {
                          "outlinewidth": 0,
                          "ticks": ""
                        },
                        "colorscale": [
                          [
                            0,
                            "#0d0887"
                          ],
                          [
                            0.1111111111111111,
                            "#46039f"
                          ],
                          [
                            0.2222222222222222,
                            "#7201a8"
                          ],
                          [
                            0.3333333333333333,
                            "#9c179e"
                          ],
                          [
                            0.4444444444444444,
                            "#bd3786"
                          ],
                          [
                            0.5555555555555556,
                            "#d8576b"
                          ],
                          [
                            0.6666666666666666,
                            "#ed7953"
                          ],
                          [
                            0.7777777777777778,
                            "#fb9f3a"
                          ],
                          [
                            0.8888888888888888,
                            "#fdca26"
                          ],
                          [
                            1,
                            "#f0f921"
                          ]
                        ],
                        "type": "surface"
                      }
                    ],
                    "table": [
                      {
                        "cells": {
                          "fill": {
                            "color": "#EBF0F8"
                          },
                          "line": {
                            "color": "white"
                          }
                        },
                        "header": {
                          "fill": {
                            "color": "#C8D4E3"
                          },
                          "line": {
                            "color": "white"
                          }
                        },
                        "type": "table"
                      }
                    ]
                  },
                  "layout": {
                    "annotationdefaults": {
                      "arrowcolor": "#2a3f5f",
                      "arrowhead": 0,
                      "arrowwidth": 1
                    },
                    "autotypenumbers": "strict",
                    "coloraxis": {
                      "colorbar": {
                        "outlinewidth": 0,
                        "ticks": ""
                      }
                    },
                    "colorscale": {
                      "diverging": [
                        [
                          0,
                          "#8e0152"
                        ],
                        [
                          0.1,
                          "#c51b7d"
                        ],
                        [
                          0.2,
                          "#de77ae"
                        ],
                        [
                          0.3,
                          "#f1b6da"
                        ],
                        [
                          0.4,
                          "#fde0ef"
                        ],
                        [
                          0.5,
                          "#f7f7f7"
                        ],
                        [
                          0.6,
                          "#e6f5d0"
                        ],
                        [
                          0.7,
                          "#b8e186"
                        ],
                        [
                          0.8,
                          "#7fbc41"
                        ],
                        [
                          0.9,
                          "#4d9221"
                        ],
                        [
                          1,
                          "#276419"
                        ]
                      ],
                      "sequential": [
                        [
                          0,
                          "#0d0887"
                        ],
                        [
                          0.1111111111111111,
                          "#46039f"
                        ],
                        [
                          0.2222222222222222,
                          "#7201a8"
                        ],
                        [
                          0.3333333333333333,
                          "#9c179e"
                        ],
                        [
                          0.4444444444444444,
                          "#bd3786"
                        ],
                        [
                          0.5555555555555556,
                          "#d8576b"
                        ],
                        [
                          0.6666666666666666,
                          "#ed7953"
                        ],
                        [
                          0.7777777777777778,
                          "#fb9f3a"
                        ],
                        [
                          0.8888888888888888,
                          "#fdca26"
                        ],
                        [
                          1,
                          "#f0f921"
                        ]
                      ],
                      "sequentialminus": [
                        [
                          0,
                          "#0d0887"
                        ],
                        [
                          0.1111111111111111,
                          "#46039f"
                        ],
                        [
                          0.2222222222222222,
                          "#7201a8"
                        ],
                        [
                          0.3333333333333333,
                          "#9c179e"
                        ],
                        [
                          0.4444444444444444,
                          "#bd3786"
                        ],
                        [
                          0.5555555555555556,
                          "#d8576b"
                        ],
                        [
                          0.6666666666666666,
                          "#ed7953"
                        ],
                        [
                          0.7777777777777778,
                          "#fb9f3a"
                        ],
                        [
                          0.8888888888888888,
                          "#fdca26"
                        ],
                        [
                          1,
                          "#f0f921"
                        ]
                      ]
                    },
                    "colorway": [
                      "#636efa",
                      "#EF553B",
                      "#00cc96",
                      "#ab63fa",
                      "#FFA15A",
                      "#19d3f3",
                      "#FF6692",
                      "#B6E880",
                      "#FF97FF",
                      "#FECB52"
                    ],
                    "font": {
                      "color": "#2a3f5f"
                    },
                    "geo": {
                      "bgcolor": "white",
                      "lakecolor": "white",
                      "landcolor": "#E5ECF6",
                      "showlakes": true,
                      "showland": true,
                      "subunitcolor": "white"
                    },
                    "hoverlabel": {
                      "align": "left"
                    },
                    "hovermode": "closest",
                    "mapbox": {
                      "style": "light"
                    },
                    "paper_bgcolor": "white",
                    "plot_bgcolor": "#E5ECF6",
                    "polar": {
                      "angularaxis": {
                        "gridcolor": "white",
                        "linecolor": "white",
                        "ticks": ""
                      },
                      "bgcolor": "#E5ECF6",
                      "radialaxis": {
                        "gridcolor": "white",
                        "linecolor": "white",
                        "ticks": ""
                      }
                    },
                    "scene": {
                      "xaxis": {
                        "backgroundcolor": "#E5ECF6",
                        "gridcolor": "white",
                        "gridwidth": 2,
                        "linecolor": "white",
                        "showbackground": true,
                        "ticks": "",
                        "zerolinecolor": "white"
                      },
                      "yaxis": {
                        "backgroundcolor": "#E5ECF6",
                        "gridcolor": "white",
                        "gridwidth": 2,
                        "linecolor": "white",
                        "showbackground": true,
                        "ticks": "",
                        "zerolinecolor": "white"
                      },
                      "zaxis": {
                        "backgroundcolor": "#E5ECF6",
                        "gridcolor": "white",
                        "gridwidth": 2,
                        "linecolor": "white",
                        "showbackground": true,
                        "ticks": "",
                        "zerolinecolor": "white"
                      }
                    },
                    "shapedefaults": {
                      "line": {
                        "color": "#2a3f5f"
                      }
                    },
                    "ternary": {
                      "aaxis": {
                        "gridcolor": "white",
                        "linecolor": "white",
                        "ticks": ""
                      },
                      "baxis": {
                        "gridcolor": "white",
                        "linecolor": "white",
                        "ticks": ""
                      },
                      "bgcolor": "#E5ECF6",
                      "caxis": {
                        "gridcolor": "white",
                        "linecolor": "white",
                        "ticks": ""
                      }
                    },
                    "title": {
                      "x": 0.05
                    },
                    "xaxis": {
                      "automargin": true,
                      "gridcolor": "white",
                      "linecolor": "white",
                      "ticks": "",
                      "title": {
                        "standoff": 15
                      },
                      "zerolinecolor": "white",
                      "zerolinewidth": 2
                    },
                    "yaxis": {
                      "automargin": true,
                      "gridcolor": "white",
                      "linecolor": "white",
                      "ticks": "",
                      "title": {
                        "standoff": 15
                      },
                      "zerolinecolor": "white",
                      "zerolinewidth": 2
                    }
                  }
                }
              }
            }
          },
          "metadata": {},
          "output_type": "display_data"
        }
      ],
      "source": [
        "# Create a gauge chart to visualize the risk percentage\n",
        "fig = go.Figure(go.Indicator(\n",
        "    mode='gauge+number',\n",
        "    value=pred_prob,\n",
        "    number={'suffix': '%', 'valueformat': '.1f'},\n",
        "    title={'text': '<b>Heart Disease Risk</b>'},\n",
        "    gauge={\n",
        "        'axis': {'range': [0, 100]},\n",
        "        'bar': {'color': '#b30000' if pred_label == 1 else '#2a9d8f'},\n",
        "        'steps': [\n",
        "            {'range': [0, 40], 'color': '#d4f5e6'},\n",
        "            {'range': [40, 70], 'color': '#fff2cc'},\n",
        "            {'range': [70, 100], 'color': '#ffd6d6'}\n",
        "        ],\n",
        "        'threshold': {'line': {'color': 'black', 'width': 2}, 'thickness': 0.75, 'value': pred_prob}\n",
        "    }\n",
        "))\n",
        "fig.update_layout(height=300, margin=dict(l=20, r=20, t=40, b=20))\n",
        "fig.show()\n"
      ]
    },
    {
      "cell_type": "markdown",
      "metadata": {},
      "source": [
        "### Next steps\n",
        "- To run a Streamlit UI, I will use  `heart_app.py` and run `python -m streamlit run heart_app.py`.\n",
        "- a .py file worked well for me \n"
      ]
    }
  ],
  "metadata": {
    "kernelspec": {
      "display_name": "base",
      "language": "python",
      "name": "python3"
    },
    "language_info": {
      "codemirror_mode": {
        "name": "ipython",
        "version": 3
      },
      "file_extension": ".py",
      "mimetype": "text/x-python",
      "name": "python",
      "nbconvert_exporter": "python",
      "pygments_lexer": "ipython3",
      "version": "3.12.7"
    }
  },
  "nbformat": 4,
  "nbformat_minor": 5
}
